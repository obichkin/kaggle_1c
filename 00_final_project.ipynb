{
 "cells": [
  {
   "cell_type": "code",
   "execution_count": 1,
   "metadata": {},
   "outputs": [],
   "source": [
    "import pandas as pd\n",
    "import numpy as np\n",
    "from tqdm import tqdm_notebook\n",
    "import gc\n",
    "\n",
    "\n",
    "import matplotlib.pyplot as plt\n",
    "import seaborn as sns\n",
    "import itertools\n",
    "\n",
    "\n",
    "from sklearn.model_selection import KFold\n",
    "from sklearn.neighbors import NearestNeighbors\n",
    "#from sklearn.ensemble import GradientBoostingRegressor\n",
    "#import xgboost as xgb\n",
    "#from sklearn.metrics import mean_squared_error\n",
    "\n",
    "%matplotlib inline"
   ]
  },
  {
   "cell_type": "code",
   "execution_count": 2,
   "metadata": {},
   "outputs": [],
   "source": [
    "#https://www.kaggle.com/c/competitive-data-science-final-project\n",
    "demo = False   #process only 3 shops to speed up\n",
    "groupby_cols = ['date_block_num', 'shop_id', 'item_id']\n",
    "shift_range = [1, 2, 3, 4, 5, 6, 12]\n",
    "DATA_FOLDER = './' #'../readonly/final_project_data/'\n",
    "k_list = [3, 5, 8, 32]\n"
   ]
  },
  {
   "cell_type": "code",
   "execution_count": null,
   "metadata": {},
   "outputs": [],
   "source": []
  },
  {
   "cell_type": "code",
   "execution_count": 3,
   "metadata": {},
   "outputs": [],
   "source": [
    "def downcast_dtypes(df):\n",
    "    '''\n",
    "        Changes column types in the dataframe: \n",
    "                \n",
    "                `float64` type to `float32`\n",
    "                `int64`   type to `int32`\n",
    "    '''\n",
    "    \n",
    "    # Select columns to downcast\n",
    "    float_cols = [c for c in df if df[c].dtype == \"float64\"]\n",
    "    # int_cols =   [c for c in df if df[c].dtype == \"int64\"] + ['target', 'target_item', 'target_shop']\n",
    "    int_cols = [c for c in df if (c.startswith('target')) or (df[c].dtype == \"int64\") ]\n",
    "    #cat_cols = [c for c in df if c in ['item_category_id'] ]\n",
    "    \n",
    "    # Downcast\n",
    "    df[float_cols] = df[float_cols].astype(np.float32)\n",
    "    df[int_cols]   = df[int_cols].astype(np.int32)\n",
    "    #df[cat_cols] =  df[cat_cols].astype(np.str)\n",
    "    \n",
    "    return df"
   ]
  },
  {
   "cell_type": "code",
   "execution_count": 4,
   "metadata": {},
   "outputs": [
    {
     "name": "stdout",
     "output_type": "stream",
     "text": [
      ".ipynb_checkpoints\n",
      "00_final_project.ipynb\n",
      "01_mean_encodings.h5\n",
      "01_mean_encodings.ipynb\n",
      "02_historic_features.h5\n",
      "02_historic_features.ipynb\n",
      "03_dates.h5\n",
      "03_knn_features.h5\n",
      "03_knn_features.ipynb\n",
      "03_knn_features_target.h5\n",
      "04_other_features.ipynb\n",
      "boost_pred.csv\n",
      "items.csv\n",
      "item_categories.csv\n",
      "knn_distances.npy\n",
      "knn_indexes.npy\n",
      "knn_labels.npy\n",
      "sales_train.csv.gz\n",
      "sample_submission.csv.gz\n",
      "shops.csv\n",
      "test.csv.gz\n",
      "xgboost.ipynb\n"
     ]
    }
   ],
   "source": [
    "import os\n",
    "\n",
    "\n",
    "for file in os.listdir(DATA_FOLDER):\n",
    "    print(file)\n",
    "\n",
    "\n",
    "    \n",
    "#train     = pd.read_csv(os.path.join(DATA_FOLDER, 'sales_train.csv.gz'))\n",
    "items     = pd.read_csv(os.path.join(DATA_FOLDER, 'items.csv'))\n",
    "#item_cats = pd.read_csv(os.path.join(DATA_FOLDER, 'item_categories.csv'))\n",
    "#shops     = pd.read_csv(os.path.join(DATA_FOLDER, 'shops.csv'))\n",
    "#test      = pd.read_csv(os.path.join(DATA_FOLDER, 'test.csv.gz')).drop(columns=['ID'])"
   ]
  },
  {
   "cell_type": "code",
   "execution_count": 5,
   "metadata": {},
   "outputs": [],
   "source": [
    "if demo:\n",
    "    last_block_num = 33\n",
    "    train = train[ train['shop_id'].isin([26, 27, 28]) ]\n",
    "    test = train[ train['date_block_num'] == last_block_num ]\n",
    "    train = train[ train['date_block_num'] < last_block_num ]\n",
    "    \n",
    "else:\n",
    "    last_block_num = 34\n",
    "    test['date_block_num'] = last_block_num"
   ]
  },
  {
   "cell_type": "code",
   "execution_count": 6,
   "metadata": {},
   "outputs": [],
   "source": [
    "all_shops_items = []\n",
    "\n",
    "for block_num in train['date_block_num'].unique():\n",
    "    unique_shops = train[ train['date_block_num']==block_num ]['shop_id'].unique()\n",
    "    unique_items = train[ train['date_block_num']==block_num ]['item_id'].unique()\n",
    "    all_shops_items.append( np.array( list( itertools.product([block_num], unique_shops, unique_items) ), dtype='int32' ) )\n",
    "\n",
    "\n",
    "train_data = pd.DataFrame( np.vstack( all_shops_items ), columns=groupby_cols )\n",
    "\n",
    "\n"
   ]
  },
  {
   "cell_type": "code",
   "execution_count": 11,
   "metadata": {},
   "outputs": [],
   "source": [
    "groupby = train.groupby(by=groupby_cols, as_index=False).agg({ 'item_cnt_day': ['sum']})\n",
    "groupby.columns = [val[0] if val[-1]=='' else '_'.join(val) for val in groupby.columns.values]\n",
    "groupby.rename(columns={'item_cnt_day_sum':'target'}, inplace=True)\n",
    "train_data = pd.merge(train_data, groupby, how='left', on=groupby_cols).fillna(0)\n",
    "\n",
    "groupby = train.groupby(by=['date_block_num', 'shop_id'], as_index=False).agg({'item_cnt_day':['sum']})\n",
    "groupby.columns = [val[0] if val[-1]=='' else '_'.join(val) for val in groupby.columns.values]\n",
    "groupby.rename(columns={'item_cnt_day_sum':'target_shop'}, inplace=True)\n",
    "train_data = pd.merge(train_data, groupby, how='left', on=['date_block_num', 'shop_id']).fillna(0)\n",
    "\n",
    "groupby = train.groupby(by=['date_block_num', 'item_id'], as_index=False).agg({'item_cnt_day':['sum']})\n",
    "groupby.columns = [val[0] if val[-1]=='' else '_'.join(val) for val in groupby.columns.values]\n",
    "groupby.rename(columns={'item_cnt_day_sum':'target_item'}, inplace=True)\n",
    "train_data = pd.merge(train_data, groupby, how='left', on=['date_block_num', 'item_id']).fillna(0)\n",
    "\n",
    "groupby = train.groupby( by=['date_block_num', 'item_id'], as_index=False).agg({ 'item_price': ['mean'] })\n",
    "groupby.columns = [val[0] if val[-1]=='' else '_'.join(val) for val in groupby.columns.values]\n",
    "train_data = pd.merge(train_data, groupby, how='left', on=['date_block_num', 'item_id']).fillna(0)\n"
   ]
  },
  {
   "cell_type": "code",
   "execution_count": null,
   "metadata": {},
   "outputs": [],
   "source": []
  },
  {
   "cell_type": "markdown",
   "metadata": {},
   "source": [
    "# Clipping and Indexing"
   ]
  },
  {
   "cell_type": "code",
   "execution_count": 13,
   "metadata": {},
   "outputs": [],
   "source": [
    "train_data['target'] = np.clip( train_data['target'], a_min=0, a_max=20 )\n",
    "train_data.sort_values(['date_block_num','shop_id','item_id'],inplace=True)\n",
    "train_data.reset_index(inplace=True, drop=True)\n",
    "\n",
    "if demo:\n",
    "    test.drop(labels=['date', 'item_price', 'item_cnt_day'], axis=1, inplace=True)\n"
   ]
  },
  {
   "cell_type": "code",
   "execution_count": 14,
   "metadata": {},
   "outputs": [],
   "source": [
    "del groupby, all_shops_items\n",
    "gc.collect();"
   ]
  },
  {
   "cell_type": "code",
   "execution_count": 15,
   "metadata": {},
   "outputs": [
    {
     "data": {
      "text/html": [
       "<div>\n",
       "<style scoped>\n",
       "    .dataframe tbody tr th:only-of-type {\n",
       "        vertical-align: middle;\n",
       "    }\n",
       "\n",
       "    .dataframe tbody tr th {\n",
       "        vertical-align: top;\n",
       "    }\n",
       "\n",
       "    .dataframe thead th {\n",
       "        text-align: right;\n",
       "    }\n",
       "</style>\n",
       "<table border=\"1\" class=\"dataframe\">\n",
       "  <thead>\n",
       "    <tr style=\"text-align: right;\">\n",
       "      <th></th>\n",
       "      <th>date_block_num</th>\n",
       "      <th>shop_id</th>\n",
       "      <th>item_id</th>\n",
       "      <th>target</th>\n",
       "      <th>target_shop</th>\n",
       "      <th>target_item</th>\n",
       "      <th>item_price_mean</th>\n",
       "    </tr>\n",
       "  </thead>\n",
       "  <tbody>\n",
       "    <tr>\n",
       "      <th>10913845</th>\n",
       "      <td>33</td>\n",
       "      <td>59</td>\n",
       "      <td>22162</td>\n",
       "      <td>0.0</td>\n",
       "      <td>790.0</td>\n",
       "      <td>10.0</td>\n",
       "      <td>349.000000</td>\n",
       "    </tr>\n",
       "    <tr>\n",
       "      <th>10913846</th>\n",
       "      <td>33</td>\n",
       "      <td>59</td>\n",
       "      <td>22163</td>\n",
       "      <td>0.0</td>\n",
       "      <td>790.0</td>\n",
       "      <td>26.0</td>\n",
       "      <td>162.698400</td>\n",
       "    </tr>\n",
       "    <tr>\n",
       "      <th>10913847</th>\n",
       "      <td>33</td>\n",
       "      <td>59</td>\n",
       "      <td>22164</td>\n",
       "      <td>0.0</td>\n",
       "      <td>790.0</td>\n",
       "      <td>15.0</td>\n",
       "      <td>549.000000</td>\n",
       "    </tr>\n",
       "    <tr>\n",
       "      <th>10913848</th>\n",
       "      <td>33</td>\n",
       "      <td>59</td>\n",
       "      <td>22166</td>\n",
       "      <td>0.0</td>\n",
       "      <td>790.0</td>\n",
       "      <td>11.0</td>\n",
       "      <td>150.000000</td>\n",
       "    </tr>\n",
       "    <tr>\n",
       "      <th>10913849</th>\n",
       "      <td>33</td>\n",
       "      <td>59</td>\n",
       "      <td>22167</td>\n",
       "      <td>0.0</td>\n",
       "      <td>790.0</td>\n",
       "      <td>37.0</td>\n",
       "      <td>293.098437</td>\n",
       "    </tr>\n",
       "  </tbody>\n",
       "</table>\n",
       "</div>"
      ],
      "text/plain": [
       "          date_block_num  shop_id  item_id  target  target_shop  target_item  \\\n",
       "10913845              33       59    22162     0.0        790.0         10.0   \n",
       "10913846              33       59    22163     0.0        790.0         26.0   \n",
       "10913847              33       59    22164     0.0        790.0         15.0   \n",
       "10913848              33       59    22166     0.0        790.0         11.0   \n",
       "10913849              33       59    22167     0.0        790.0         37.0   \n",
       "\n",
       "          item_price_mean  \n",
       "10913845       349.000000  \n",
       "10913846       162.698400  \n",
       "10913847       549.000000  \n",
       "10913848       150.000000  \n",
       "10913849       293.098437  "
      ]
     },
     "execution_count": 15,
     "metadata": {},
     "output_type": "execute_result"
    }
   ],
   "source": [
    "train_data.tail()"
   ]
  },
  {
   "cell_type": "markdown",
   "metadata": {},
   "source": [
    "# Mean Encodings"
   ]
  },
  {
   "cell_type": "code",
   "execution_count": 16,
   "metadata": {},
   "outputs": [
    {
     "name": "stdout",
     "output_type": "stream",
     "text": [
      "Wall time: 3min 21s\n"
     ]
    }
   ],
   "source": [
    "%%time\n",
    "train_data['item_target_enc'] = np.nan\n",
    "\n",
    "kfold = KFold(n_splits=5, shuffle=False)\n",
    "for train_index, val_index in kfold.split(train_data.index):\n",
    "    #X_val = train_data.iloc[val_index]\n",
    "    #X_train = train_data.iloc[train_index]\n",
    "    \n",
    "    item_id_target_mean = train_data.loc[train_index].groupby('item_id').target.mean()\n",
    "    train_data.loc[val_index, 'item_target_enc'] = train_data.loc[val_index, 'item_id'].map(item_id_target_mean)\n",
    "\n",
    "\n",
    "#train_data['item_target_enc'].fillna(0.3343, inplace=True)     \n",
    "train_data['item_target_enc'].fillna(train_data['target'].mean(), inplace=True)"
   ]
  },
  {
   "cell_type": "code",
   "execution_count": 17,
   "metadata": {},
   "outputs": [],
   "source": [
    "all_data = train_data.append(test).fillna(0)\n",
    "dates = all_data['date_block_num']"
   ]
  },
  {
   "cell_type": "code",
   "execution_count": 21,
   "metadata": {},
   "outputs": [],
   "source": [
    "item_id_target_mean = all_data[dates<last_block_num].groupby('item_id').target.mean()"
   ]
  },
  {
   "cell_type": "code",
   "execution_count": 24,
   "metadata": {},
   "outputs": [],
   "source": [
    "#all_data.loc[dates == last_block_num, 'item_target_enc']"
   ]
  },
  {
   "cell_type": "code",
   "execution_count": 25,
   "metadata": {},
   "outputs": [],
   "source": [
    "all_data.loc[dates == last_block_num, 'item_target_enc'] = all_data.loc[dates == last_block_num, 'item_id'].map(item_id_target_mean)\n",
    "all_data.item_target_enc.fillna( all_data.target.mean(), inplace=True )"
   ]
  },
  {
   "cell_type": "code",
   "execution_count": null,
   "metadata": {},
   "outputs": [],
   "source": []
  },
  {
   "cell_type": "code",
   "execution_count": 26,
   "metadata": {
    "scrolled": true
   },
   "outputs": [],
   "source": [
    "all_data.to_hdf(\"01_mean_encodings.h5\", 'key1')"
   ]
  },
  {
   "cell_type": "code",
   "execution_count": 5,
   "metadata": {},
   "outputs": [],
   "source": [
    "all_data = pd.read_hdf(\"01_mean_encodings.h5\", 'key1')"
   ]
  },
  {
   "cell_type": "markdown",
   "metadata": {},
   "source": [
    "## Historical values"
   ]
  },
  {
   "cell_type": "code",
   "execution_count": null,
   "metadata": {},
   "outputs": [
    {
     "data": {
      "application/vnd.jupyter.widget-view+json": {
       "model_id": "b5d6a6593be948219a0f7753cf243d2f",
       "version_major": 2,
       "version_minor": 0
      },
      "text/html": [
       "<p>Failed to display Jupyter Widget of type <code>HBox</code>.</p>\n",
       "<p>\n",
       "  If you're reading this message in the Jupyter Notebook or JupyterLab Notebook, it may mean\n",
       "  that the widgets JavaScript is still loading. If this message persists, it\n",
       "  likely means that the widgets JavaScript library is either not installed or\n",
       "  not enabled. See the <a href=\"https://ipywidgets.readthedocs.io/en/stable/user_install.html\">Jupyter\n",
       "  Widgets Documentation</a> for setup instructions.\n",
       "</p>\n",
       "<p>\n",
       "  If you're reading this message in another frontend (for example, a static\n",
       "  rendering on GitHub or <a href=\"https://nbviewer.jupyter.org/\">NBViewer</a>),\n",
       "  it may mean that your frontend doesn't currently support widgets.\n",
       "</p>\n"
      ],
      "text/plain": [
       "HBox(children=(IntProgress(value=0, max=7), HTML(value='')))"
      ]
     },
     "metadata": {},
     "output_type": "display_data"
    }
   ],
   "source": [
    "%%time\n",
    "shifted_columns = list( all_data.columns.difference(groupby_cols) )\n",
    "\n",
    "for shift in tqdm_notebook(shift_range):\n",
    "    \n",
    "    #print(\"starting shift\", shift)\n",
    "    shifted_data = all_data[groupby_cols + shifted_columns].copy()\n",
    "    shifted_data['date_block_num'] = shifted_data['date_block_num'] + shift\n",
    "    \n",
    "    foo = lambda x: '{}_lag_{}'.format(x, shift) if x in shifted_columns else x\n",
    "    shifted_data = shifted_data.rename(columns=foo)\n",
    "    \n",
    "    #print(\"starting merge\", shift)\n",
    "    all_data = pd.merge(all_data, shifted_data, how='left', on=groupby_cols).fillna(0)\n",
    "    all_data = downcast_dtypes(all_data)\n",
    "\n",
    "del shifted_data"
   ]
  },
  {
   "cell_type": "code",
   "execution_count": null,
   "metadata": {},
   "outputs": [],
   "source": [
    "item_category = items[['item_id', 'item_category_id']].drop_duplicates()\n",
    "all_data = pd.merge(all_data, item_category, how='left', on=['item_id'])"
   ]
  },
  {
   "cell_type": "code",
   "execution_count": 17,
   "metadata": {},
   "outputs": [],
   "source": [
    "all_data = downcast_dtypes(all_data)"
   ]
  },
  {
   "cell_type": "code",
   "execution_count": null,
   "metadata": {},
   "outputs": [],
   "source": [
    "all_data.tail()"
   ]
  },
  {
   "cell_type": "code",
   "execution_count": 21,
   "metadata": {},
   "outputs": [
    {
     "name": "stdout",
     "output_type": "stream",
     "text": [
      "['target', 'target_shop', 'item_target_enc', 'item_price_mean', 'target_item', 'date_block_num']\n"
     ]
    }
   ],
   "source": [
    "all_data = all_data[all_data['date_block_num'] >= 12] \n",
    "fit_cols = [col for col in all_data.columns if col[-1] in [str(item) for item in shift_range]] + ['item_category_id']\n",
    "\n",
    "to_drop_cols = list(set(list(all_data.columns)) - (set(fit_cols)|set(groupby_cols))) + ['date_block_num'] \n",
    "print(to_drop_cols)\n",
    "\n",
    "all_data.reset_index(inplace=True, drop=True)\n"
   ]
  },
  {
   "cell_type": "code",
   "execution_count": 22,
   "metadata": {},
   "outputs": [],
   "source": [
    "#all_data.dtypes"
   ]
  },
  {
   "cell_type": "code",
   "execution_count": null,
   "metadata": {},
   "outputs": [],
   "source": []
  },
  {
   "cell_type": "code",
   "execution_count": null,
   "metadata": {},
   "outputs": [],
   "source": [
    "all_data.to_hdf(\"02_historic_features.h5\", 'key1')"
   ]
  },
  {
   "cell_type": "code",
   "execution_count": 20,
   "metadata": {},
   "outputs": [],
   "source": [
    "all_data = pd.read_hdf(\"02_historic_features.h5\", 'key1')"
   ]
  },
  {
   "cell_type": "code",
   "execution_count": 42,
   "metadata": {},
   "outputs": [],
   "source": [
    "dates = all_data['date_block_num']\n",
    "\n",
    "X_all = all_data.drop(to_drop_cols, axis=1)\n",
    "y_all = all_data['target' ]\n",
    "\n",
    "X_train = X_all[ dates<last_block_num ]\n",
    "X_test = X_all[ dates==last_block_num ]\n",
    "\n",
    "y_train = y_all[ dates<last_block_num ]\n",
    "y_test = y_all[ dates==last_block_num ]"
   ]
  },
  {
   "cell_type": "code",
   "execution_count": 24,
   "metadata": {},
   "outputs": [
    {
     "data": {
      "text/plain": [
       "dtype('int32')"
      ]
     },
     "execution_count": 24,
     "metadata": {},
     "output_type": "execute_result"
    }
   ],
   "source": [
    "y_train.dtype"
   ]
  },
  {
   "cell_type": "code",
   "execution_count": 25,
   "metadata": {},
   "outputs": [
    {
     "name": "stdout",
     "output_type": "stream",
     "text": [
      "Wall time: 12.3 s\n"
     ]
    }
   ],
   "source": [
    "%%time\n",
    "nnf = NearestNeighbors(n_neighbors=max(k_list))\n",
    "nnf.fit(X_train, y_train)\n"
   ]
  },
  {
   "cell_type": "code",
   "execution_count": 26,
   "metadata": {},
   "outputs": [
    {
     "name": "stdout",
     "output_type": "stream",
     "text": [
      "Wall time: 3min 16s\n"
     ]
    }
   ],
   "source": [
    "%%time\n",
    "(dist, ind) = nnf.kneighbors(X_all)"
   ]
  },
  {
   "cell_type": "code",
   "execution_count": 27,
   "metadata": {},
   "outputs": [
    {
     "name": "stdout",
     "output_type": "stream",
     "text": [
      "Wall time: 1min 18s\n"
     ]
    }
   ],
   "source": [
    "%%time\n",
    "labels = np.stack( y_all.index.map( lambda x: np.array( y_train.loc[ ind[x] ] , dtype=np.int32) ) )"
   ]
  },
  {
   "cell_type": "markdown",
   "metadata": {},
   "source": [
    "# Save / Load  KNN results"
   ]
  },
  {
   "cell_type": "code",
   "execution_count": 28,
   "metadata": {},
   "outputs": [],
   "source": [
    "np.save('knn_distances.npy', dist)\n",
    "np.save('knn_indexes.npy', ind)\n",
    "np.save('knn_labels.npy', labels)\n"
   ]
  },
  {
   "cell_type": "code",
   "execution_count": 29,
   "metadata": {},
   "outputs": [],
   "source": [
    "dist = np.load('knn_distances.npy')\n",
    "ind = np.load('knn_indexes.npy')\n",
    "labels = np.load('knn_labels.npy')"
   ]
  },
  {
   "cell_type": "code",
   "execution_count": 43,
   "metadata": {},
   "outputs": [],
   "source": [
    "for k in k_list:\n",
    "    knn_median = pd.Series( np.median( labels[:, :k] , axis=1).astype(np.float32), name=\"knn_median_\"+str(k))\n",
    "    knn_mean = pd.Series( np.mean( labels[:, :k] , axis=1).astype(np.float32), name=\"knn_mean_\"+str(k))\n",
    "    X_all = pd.concat([X_all, knn_mean, knn_median], axis=1)\n",
    "    \n",
    "    "
   ]
  },
  {
   "cell_type": "code",
   "execution_count": 44,
   "metadata": {},
   "outputs": [
    {
     "data": {
      "text/html": [
       "<div>\n",
       "<style scoped>\n",
       "    .dataframe tbody tr th:only-of-type {\n",
       "        vertical-align: middle;\n",
       "    }\n",
       "\n",
       "    .dataframe tbody tr th {\n",
       "        vertical-align: top;\n",
       "    }\n",
       "\n",
       "    .dataframe thead th {\n",
       "        text-align: right;\n",
       "    }\n",
       "</style>\n",
       "<table border=\"1\" class=\"dataframe\">\n",
       "  <thead>\n",
       "    <tr style=\"text-align: right;\">\n",
       "      <th></th>\n",
       "      <th>item_id</th>\n",
       "      <th>shop_id</th>\n",
       "      <th>item_price_mean_lag_1</th>\n",
       "      <th>item_target_enc_lag_1</th>\n",
       "      <th>target_lag_1</th>\n",
       "      <th>target_item_lag_1</th>\n",
       "      <th>target_shop_lag_1</th>\n",
       "      <th>item_price_mean_lag_2</th>\n",
       "      <th>item_target_enc_lag_2</th>\n",
       "      <th>target_lag_2</th>\n",
       "      <th>...</th>\n",
       "      <th>target_shop_lag_12</th>\n",
       "      <th>item_category_id</th>\n",
       "      <th>knn_mean_3</th>\n",
       "      <th>knn_median_3</th>\n",
       "      <th>knn_mean_5</th>\n",
       "      <th>knn_median_5</th>\n",
       "      <th>knn_mean_8</th>\n",
       "      <th>knn_median_8</th>\n",
       "      <th>knn_mean_32</th>\n",
       "      <th>knn_median_32</th>\n",
       "    </tr>\n",
       "  </thead>\n",
       "  <tbody>\n",
       "    <tr>\n",
       "      <th>158225</th>\n",
       "      <td>22001</td>\n",
       "      <td>28</td>\n",
       "      <td>0.0</td>\n",
       "      <td>0.0000</td>\n",
       "      <td>0</td>\n",
       "      <td>0</td>\n",
       "      <td>0</td>\n",
       "      <td>0.0</td>\n",
       "      <td>0.0000</td>\n",
       "      <td>0</td>\n",
       "      <td>...</td>\n",
       "      <td>0</td>\n",
       "      <td>40</td>\n",
       "      <td>0.333333</td>\n",
       "      <td>0.0</td>\n",
       "      <td>0.4</td>\n",
       "      <td>0.0</td>\n",
       "      <td>0.375</td>\n",
       "      <td>0.0</td>\n",
       "      <td>0.71875</td>\n",
       "      <td>0.0</td>\n",
       "    </tr>\n",
       "    <tr>\n",
       "      <th>158226</th>\n",
       "      <td>22001</td>\n",
       "      <td>28</td>\n",
       "      <td>0.0</td>\n",
       "      <td>0.0000</td>\n",
       "      <td>0</td>\n",
       "      <td>0</td>\n",
       "      <td>0</td>\n",
       "      <td>0.0</td>\n",
       "      <td>0.0000</td>\n",
       "      <td>0</td>\n",
       "      <td>...</td>\n",
       "      <td>0</td>\n",
       "      <td>40</td>\n",
       "      <td>0.333333</td>\n",
       "      <td>0.0</td>\n",
       "      <td>0.4</td>\n",
       "      <td>0.0</td>\n",
       "      <td>0.375</td>\n",
       "      <td>0.0</td>\n",
       "      <td>0.71875</td>\n",
       "      <td>0.0</td>\n",
       "    </tr>\n",
       "    <tr>\n",
       "      <th>158227</th>\n",
       "      <td>22001</td>\n",
       "      <td>28</td>\n",
       "      <td>0.0</td>\n",
       "      <td>0.0000</td>\n",
       "      <td>0</td>\n",
       "      <td>0</td>\n",
       "      <td>0</td>\n",
       "      <td>0.0</td>\n",
       "      <td>0.0000</td>\n",
       "      <td>0</td>\n",
       "      <td>...</td>\n",
       "      <td>0</td>\n",
       "      <td>40</td>\n",
       "      <td>0.333333</td>\n",
       "      <td>0.0</td>\n",
       "      <td>0.4</td>\n",
       "      <td>0.0</td>\n",
       "      <td>0.375</td>\n",
       "      <td>0.0</td>\n",
       "      <td>0.71875</td>\n",
       "      <td>0.0</td>\n",
       "    </tr>\n",
       "    <tr>\n",
       "      <th>158228</th>\n",
       "      <td>21811</td>\n",
       "      <td>28</td>\n",
       "      <td>0.0</td>\n",
       "      <td>0.0000</td>\n",
       "      <td>0</td>\n",
       "      <td>0</td>\n",
       "      <td>0</td>\n",
       "      <td>0.0</td>\n",
       "      <td>0.0000</td>\n",
       "      <td>0</td>\n",
       "      <td>...</td>\n",
       "      <td>0</td>\n",
       "      <td>37</td>\n",
       "      <td>0.333333</td>\n",
       "      <td>0.0</td>\n",
       "      <td>0.8</td>\n",
       "      <td>1.0</td>\n",
       "      <td>0.625</td>\n",
       "      <td>0.5</td>\n",
       "      <td>0.59375</td>\n",
       "      <td>0.5</td>\n",
       "    </tr>\n",
       "    <tr>\n",
       "      <th>158229</th>\n",
       "      <td>20949</td>\n",
       "      <td>28</td>\n",
       "      <td>5.0</td>\n",
       "      <td>18.8125</td>\n",
       "      <td>20</td>\n",
       "      <td>327</td>\n",
       "      <td>2979</td>\n",
       "      <td>5.0</td>\n",
       "      <td>18.8125</td>\n",
       "      <td>20</td>\n",
       "      <td>...</td>\n",
       "      <td>4695</td>\n",
       "      <td>71</td>\n",
       "      <td>20.000000</td>\n",
       "      <td>20.0</td>\n",
       "      <td>20.0</td>\n",
       "      <td>20.0</td>\n",
       "      <td>13.375</td>\n",
       "      <td>20.0</td>\n",
       "      <td>5.37500</td>\n",
       "      <td>1.5</td>\n",
       "    </tr>\n",
       "  </tbody>\n",
       "</table>\n",
       "<p>5 rows × 46 columns</p>\n",
       "</div>"
      ],
      "text/plain": [
       "        item_id  shop_id  item_price_mean_lag_1  item_target_enc_lag_1  \\\n",
       "158225    22001       28                    0.0                 0.0000   \n",
       "158226    22001       28                    0.0                 0.0000   \n",
       "158227    22001       28                    0.0                 0.0000   \n",
       "158228    21811       28                    0.0                 0.0000   \n",
       "158229    20949       28                    5.0                18.8125   \n",
       "\n",
       "        target_lag_1  target_item_lag_1  target_shop_lag_1  \\\n",
       "158225             0                  0                  0   \n",
       "158226             0                  0                  0   \n",
       "158227             0                  0                  0   \n",
       "158228             0                  0                  0   \n",
       "158229            20                327               2979   \n",
       "\n",
       "        item_price_mean_lag_2  item_target_enc_lag_2  target_lag_2  \\\n",
       "158225                    0.0                 0.0000             0   \n",
       "158226                    0.0                 0.0000             0   \n",
       "158227                    0.0                 0.0000             0   \n",
       "158228                    0.0                 0.0000             0   \n",
       "158229                    5.0                18.8125            20   \n",
       "\n",
       "            ...        target_shop_lag_12  item_category_id  knn_mean_3  \\\n",
       "158225      ...                         0                40    0.333333   \n",
       "158226      ...                         0                40    0.333333   \n",
       "158227      ...                         0                40    0.333333   \n",
       "158228      ...                         0                37    0.333333   \n",
       "158229      ...                      4695                71   20.000000   \n",
       "\n",
       "        knn_median_3  knn_mean_5  knn_median_5  knn_mean_8  knn_median_8  \\\n",
       "158225           0.0         0.4           0.0       0.375           0.0   \n",
       "158226           0.0         0.4           0.0       0.375           0.0   \n",
       "158227           0.0         0.4           0.0       0.375           0.0   \n",
       "158228           0.0         0.8           1.0       0.625           0.5   \n",
       "158229          20.0        20.0          20.0      13.375          20.0   \n",
       "\n",
       "        knn_mean_32  knn_median_32  \n",
       "158225      0.71875            0.0  \n",
       "158226      0.71875            0.0  \n",
       "158227      0.71875            0.0  \n",
       "158228      0.59375            0.5  \n",
       "158229      5.37500            1.5  \n",
       "\n",
       "[5 rows x 46 columns]"
      ]
     },
     "execution_count": 44,
     "metadata": {},
     "output_type": "execute_result"
    }
   ],
   "source": [
    "X_all.tail()"
   ]
  },
  {
   "cell_type": "code",
   "execution_count": null,
   "metadata": {},
   "outputs": [],
   "source": []
  },
  {
   "cell_type": "code",
   "execution_count": null,
   "metadata": {},
   "outputs": [],
   "source": []
  },
  {
   "cell_type": "code",
   "execution_count": null,
   "metadata": {},
   "outputs": [],
   "source": []
  },
  {
   "cell_type": "code",
   "execution_count": null,
   "metadata": {},
   "outputs": [],
   "source": []
  },
  {
   "cell_type": "code",
   "execution_count": 50,
   "metadata": {},
   "outputs": [],
   "source": [
    "X_all.to_hdf(\"03_knn_features.h5\", 'key1')\n",
    "y_all.to_hdf(\"03_knn_features_target.h5\", 'key1')\n",
    "dates.to_hdf(\"03_dates.h5\", 'key1')"
   ]
  },
  {
   "cell_type": "code",
   "execution_count": 51,
   "metadata": {},
   "outputs": [],
   "source": [
    "X_all = pd.read_hdf(\"03_knn_features.h5\", 'key1')\n",
    "y_all = pd.read_hdf(\"03_knn_features_target.h5\", 'key1')\n",
    "dates = pd.read_hdf(\"03_dates.h5\", 'key1')"
   ]
  },
  {
   "cell_type": "code",
   "execution_count": null,
   "metadata": {},
   "outputs": [],
   "source": []
  },
  {
   "cell_type": "code",
   "execution_count": 53,
   "metadata": {},
   "outputs": [
    {
     "data": {
      "text/html": [
       "<div>\n",
       "<style scoped>\n",
       "    .dataframe tbody tr th:only-of-type {\n",
       "        vertical-align: middle;\n",
       "    }\n",
       "\n",
       "    .dataframe tbody tr th {\n",
       "        vertical-align: top;\n",
       "    }\n",
       "\n",
       "    .dataframe thead th {\n",
       "        text-align: right;\n",
       "    }\n",
       "</style>\n",
       "<table border=\"1\" class=\"dataframe\">\n",
       "  <thead>\n",
       "    <tr style=\"text-align: right;\">\n",
       "      <th></th>\n",
       "      <th>item_id</th>\n",
       "      <th>shop_id</th>\n",
       "      <th>item_price_mean_lag_1</th>\n",
       "      <th>item_target_enc_lag_1</th>\n",
       "      <th>target_lag_1</th>\n",
       "      <th>target_item_lag_1</th>\n",
       "      <th>target_shop_lag_1</th>\n",
       "      <th>item_price_mean_lag_2</th>\n",
       "      <th>item_target_enc_lag_2</th>\n",
       "      <th>target_lag_2</th>\n",
       "      <th>...</th>\n",
       "      <th>target_shop_lag_12</th>\n",
       "      <th>item_category_id</th>\n",
       "      <th>knn_mean_3</th>\n",
       "      <th>knn_median_3</th>\n",
       "      <th>knn_mean_5</th>\n",
       "      <th>knn_median_5</th>\n",
       "      <th>knn_mean_8</th>\n",
       "      <th>knn_median_8</th>\n",
       "      <th>knn_mean_32</th>\n",
       "      <th>knn_median_32</th>\n",
       "    </tr>\n",
       "  </thead>\n",
       "  <tbody>\n",
       "    <tr>\n",
       "      <th>51509</th>\n",
       "      <td>5762</td>\n",
       "      <td>26</td>\n",
       "      <td>0.000000</td>\n",
       "      <td>0.000000</td>\n",
       "      <td>0</td>\n",
       "      <td>0</td>\n",
       "      <td>0</td>\n",
       "      <td>0.000000</td>\n",
       "      <td>0.000000</td>\n",
       "      <td>0</td>\n",
       "      <td>...</td>\n",
       "      <td>0</td>\n",
       "      <td>75</td>\n",
       "      <td>0.000000</td>\n",
       "      <td>0.0</td>\n",
       "      <td>0.0</td>\n",
       "      <td>0.0</td>\n",
       "      <td>0.000</td>\n",
       "      <td>0.0</td>\n",
       "      <td>0.09375</td>\n",
       "      <td>0.0</td>\n",
       "    </tr>\n",
       "    <tr>\n",
       "      <th>143569</th>\n",
       "      <td>13720</td>\n",
       "      <td>27</td>\n",
       "      <td>229.000000</td>\n",
       "      <td>1.223574</td>\n",
       "      <td>1</td>\n",
       "      <td>1</td>\n",
       "      <td>3357</td>\n",
       "      <td>229.000000</td>\n",
       "      <td>1.223574</td>\n",
       "      <td>1</td>\n",
       "      <td>...</td>\n",
       "      <td>0</td>\n",
       "      <td>69</td>\n",
       "      <td>2.000000</td>\n",
       "      <td>2.0</td>\n",
       "      <td>1.6</td>\n",
       "      <td>2.0</td>\n",
       "      <td>1.125</td>\n",
       "      <td>1.0</td>\n",
       "      <td>1.31250</td>\n",
       "      <td>1.0</td>\n",
       "    </tr>\n",
       "    <tr>\n",
       "      <th>89727</th>\n",
       "      <td>10325</td>\n",
       "      <td>26</td>\n",
       "      <td>0.000000</td>\n",
       "      <td>0.000000</td>\n",
       "      <td>0</td>\n",
       "      <td>0</td>\n",
       "      <td>0</td>\n",
       "      <td>0.000000</td>\n",
       "      <td>0.000000</td>\n",
       "      <td>0</td>\n",
       "      <td>...</td>\n",
       "      <td>3391</td>\n",
       "      <td>40</td>\n",
       "      <td>0.000000</td>\n",
       "      <td>0.0</td>\n",
       "      <td>0.4</td>\n",
       "      <td>0.0</td>\n",
       "      <td>0.250</td>\n",
       "      <td>0.0</td>\n",
       "      <td>0.37500</td>\n",
       "      <td>0.0</td>\n",
       "    </tr>\n",
       "    <tr>\n",
       "      <th>81017</th>\n",
       "      <td>482</td>\n",
       "      <td>26</td>\n",
       "      <td>3163.636475</td>\n",
       "      <td>3.207792</td>\n",
       "      <td>0</td>\n",
       "      <td>11</td>\n",
       "      <td>1900</td>\n",
       "      <td>3187.500000</td>\n",
       "      <td>3.207792</td>\n",
       "      <td>3</td>\n",
       "      <td>...</td>\n",
       "      <td>2409</td>\n",
       "      <td>73</td>\n",
       "      <td>1.000000</td>\n",
       "      <td>0.0</td>\n",
       "      <td>0.6</td>\n",
       "      <td>0.0</td>\n",
       "      <td>0.750</td>\n",
       "      <td>0.0</td>\n",
       "      <td>0.90625</td>\n",
       "      <td>1.0</td>\n",
       "    </tr>\n",
       "    <tr>\n",
       "      <th>53815</th>\n",
       "      <td>2505</td>\n",
       "      <td>27</td>\n",
       "      <td>299.000000</td>\n",
       "      <td>0.722222</td>\n",
       "      <td>0</td>\n",
       "      <td>1</td>\n",
       "      <td>4282</td>\n",
       "      <td>299.000000</td>\n",
       "      <td>0.461538</td>\n",
       "      <td>0</td>\n",
       "      <td>...</td>\n",
       "      <td>4148</td>\n",
       "      <td>55</td>\n",
       "      <td>0.333333</td>\n",
       "      <td>0.0</td>\n",
       "      <td>0.6</td>\n",
       "      <td>1.0</td>\n",
       "      <td>0.625</td>\n",
       "      <td>1.0</td>\n",
       "      <td>0.50000</td>\n",
       "      <td>0.5</td>\n",
       "    </tr>\n",
       "    <tr>\n",
       "      <th>86244</th>\n",
       "      <td>2754</td>\n",
       "      <td>28</td>\n",
       "      <td>999.000000</td>\n",
       "      <td>1.767857</td>\n",
       "      <td>1</td>\n",
       "      <td>1</td>\n",
       "      <td>4695</td>\n",
       "      <td>763.140015</td>\n",
       "      <td>1.767857</td>\n",
       "      <td>0</td>\n",
       "      <td>...</td>\n",
       "      <td>6454</td>\n",
       "      <td>19</td>\n",
       "      <td>3.000000</td>\n",
       "      <td>2.0</td>\n",
       "      <td>2.4</td>\n",
       "      <td>2.0</td>\n",
       "      <td>3.125</td>\n",
       "      <td>2.5</td>\n",
       "      <td>3.12500</td>\n",
       "      <td>2.0</td>\n",
       "    </tr>\n",
       "    <tr>\n",
       "      <th>117953</th>\n",
       "      <td>3028</td>\n",
       "      <td>28</td>\n",
       "      <td>2599.000000</td>\n",
       "      <td>3.000000</td>\n",
       "      <td>1</td>\n",
       "      <td>3</td>\n",
       "      <td>4234</td>\n",
       "      <td>2599.000000</td>\n",
       "      <td>3.000000</td>\n",
       "      <td>7</td>\n",
       "      <td>...</td>\n",
       "      <td>0</td>\n",
       "      <td>23</td>\n",
       "      <td>1.666667</td>\n",
       "      <td>2.0</td>\n",
       "      <td>1.4</td>\n",
       "      <td>2.0</td>\n",
       "      <td>1.750</td>\n",
       "      <td>2.0</td>\n",
       "      <td>2.40625</td>\n",
       "      <td>2.0</td>\n",
       "    </tr>\n",
       "    <tr>\n",
       "      <th>158030</th>\n",
       "      <td>15066</td>\n",
       "      <td>28</td>\n",
       "      <td>799.000000</td>\n",
       "      <td>6.000000</td>\n",
       "      <td>0</td>\n",
       "      <td>1</td>\n",
       "      <td>2979</td>\n",
       "      <td>699.125000</td>\n",
       "      <td>6.000000</td>\n",
       "      <td>4</td>\n",
       "      <td>...</td>\n",
       "      <td>0</td>\n",
       "      <td>28</td>\n",
       "      <td>2.000000</td>\n",
       "      <td>1.0</td>\n",
       "      <td>2.0</td>\n",
       "      <td>1.0</td>\n",
       "      <td>1.750</td>\n",
       "      <td>1.0</td>\n",
       "      <td>1.65625</td>\n",
       "      <td>1.0</td>\n",
       "    </tr>\n",
       "    <tr>\n",
       "      <th>54590</th>\n",
       "      <td>8465</td>\n",
       "      <td>27</td>\n",
       "      <td>0.000000</td>\n",
       "      <td>0.000000</td>\n",
       "      <td>0</td>\n",
       "      <td>0</td>\n",
       "      <td>0</td>\n",
       "      <td>349.000000</td>\n",
       "      <td>0.958333</td>\n",
       "      <td>1</td>\n",
       "      <td>...</td>\n",
       "      <td>0</td>\n",
       "      <td>43</td>\n",
       "      <td>0.000000</td>\n",
       "      <td>0.0</td>\n",
       "      <td>0.4</td>\n",
       "      <td>0.0</td>\n",
       "      <td>0.500</td>\n",
       "      <td>0.5</td>\n",
       "      <td>0.53125</td>\n",
       "      <td>0.5</td>\n",
       "    </tr>\n",
       "    <tr>\n",
       "      <th>81566</th>\n",
       "      <td>5204</td>\n",
       "      <td>26</td>\n",
       "      <td>2599.000000</td>\n",
       "      <td>1.100000</td>\n",
       "      <td>2</td>\n",
       "      <td>3</td>\n",
       "      <td>1900</td>\n",
       "      <td>0.000000</td>\n",
       "      <td>0.000000</td>\n",
       "      <td>0</td>\n",
       "      <td>...</td>\n",
       "      <td>0</td>\n",
       "      <td>19</td>\n",
       "      <td>1.000000</td>\n",
       "      <td>1.0</td>\n",
       "      <td>1.0</td>\n",
       "      <td>1.0</td>\n",
       "      <td>0.875</td>\n",
       "      <td>1.0</td>\n",
       "      <td>1.28125</td>\n",
       "      <td>1.0</td>\n",
       "    </tr>\n",
       "  </tbody>\n",
       "</table>\n",
       "<p>10 rows × 46 columns</p>\n",
       "</div>"
      ],
      "text/plain": [
       "        item_id  shop_id  item_price_mean_lag_1  item_target_enc_lag_1  \\\n",
       "51509      5762       26               0.000000               0.000000   \n",
       "143569    13720       27             229.000000               1.223574   \n",
       "89727     10325       26               0.000000               0.000000   \n",
       "81017       482       26            3163.636475               3.207792   \n",
       "53815      2505       27             299.000000               0.722222   \n",
       "86244      2754       28             999.000000               1.767857   \n",
       "117953     3028       28            2599.000000               3.000000   \n",
       "158030    15066       28             799.000000               6.000000   \n",
       "54590      8465       27               0.000000               0.000000   \n",
       "81566      5204       26            2599.000000               1.100000   \n",
       "\n",
       "        target_lag_1  target_item_lag_1  target_shop_lag_1  \\\n",
       "51509              0                  0                  0   \n",
       "143569             1                  1               3357   \n",
       "89727              0                  0                  0   \n",
       "81017              0                 11               1900   \n",
       "53815              0                  1               4282   \n",
       "86244              1                  1               4695   \n",
       "117953             1                  3               4234   \n",
       "158030             0                  1               2979   \n",
       "54590              0                  0                  0   \n",
       "81566              2                  3               1900   \n",
       "\n",
       "        item_price_mean_lag_2  item_target_enc_lag_2  target_lag_2  \\\n",
       "51509                0.000000               0.000000             0   \n",
       "143569             229.000000               1.223574             1   \n",
       "89727                0.000000               0.000000             0   \n",
       "81017             3187.500000               3.207792             3   \n",
       "53815              299.000000               0.461538             0   \n",
       "86244              763.140015               1.767857             0   \n",
       "117953            2599.000000               3.000000             7   \n",
       "158030             699.125000               6.000000             4   \n",
       "54590              349.000000               0.958333             1   \n",
       "81566                0.000000               0.000000             0   \n",
       "\n",
       "            ...        target_shop_lag_12  item_category_id  knn_mean_3  \\\n",
       "51509       ...                         0                75    0.000000   \n",
       "143569      ...                         0                69    2.000000   \n",
       "89727       ...                      3391                40    0.000000   \n",
       "81017       ...                      2409                73    1.000000   \n",
       "53815       ...                      4148                55    0.333333   \n",
       "86244       ...                      6454                19    3.000000   \n",
       "117953      ...                         0                23    1.666667   \n",
       "158030      ...                         0                28    2.000000   \n",
       "54590       ...                         0                43    0.000000   \n",
       "81566       ...                         0                19    1.000000   \n",
       "\n",
       "        knn_median_3  knn_mean_5  knn_median_5  knn_mean_8  knn_median_8  \\\n",
       "51509            0.0         0.0           0.0       0.000           0.0   \n",
       "143569           2.0         1.6           2.0       1.125           1.0   \n",
       "89727            0.0         0.4           0.0       0.250           0.0   \n",
       "81017            0.0         0.6           0.0       0.750           0.0   \n",
       "53815            0.0         0.6           1.0       0.625           1.0   \n",
       "86244            2.0         2.4           2.0       3.125           2.5   \n",
       "117953           2.0         1.4           2.0       1.750           2.0   \n",
       "158030           1.0         2.0           1.0       1.750           1.0   \n",
       "54590            0.0         0.4           0.0       0.500           0.5   \n",
       "81566            1.0         1.0           1.0       0.875           1.0   \n",
       "\n",
       "        knn_mean_32  knn_median_32  \n",
       "51509       0.09375            0.0  \n",
       "143569      1.31250            1.0  \n",
       "89727       0.37500            0.0  \n",
       "81017       0.90625            1.0  \n",
       "53815       0.50000            0.5  \n",
       "86244       3.12500            2.0  \n",
       "117953      2.40625            2.0  \n",
       "158030      1.65625            1.0  \n",
       "54590       0.53125            0.5  \n",
       "81566       1.28125            1.0  \n",
       "\n",
       "[10 rows x 46 columns]"
      ]
     },
     "execution_count": 53,
     "metadata": {},
     "output_type": "execute_result"
    }
   ],
   "source": [
    "X_all.sample(10)"
   ]
  },
  {
   "cell_type": "code",
   "execution_count": null,
   "metadata": {},
   "outputs": [],
   "source": []
  },
  {
   "cell_type": "code",
   "execution_count": null,
   "metadata": {},
   "outputs": [],
   "source": []
  },
  {
   "cell_type": "code",
   "execution_count": null,
   "metadata": {},
   "outputs": [],
   "source": []
  },
  {
   "cell_type": "code",
   "execution_count": null,
   "metadata": {},
   "outputs": [],
   "source": []
  },
  {
   "cell_type": "code",
   "execution_count": null,
   "metadata": {},
   "outputs": [],
   "source": []
  },
  {
   "cell_type": "code",
   "execution_count": null,
   "metadata": {},
   "outputs": [],
   "source": []
  },
  {
   "cell_type": "code",
   "execution_count": null,
   "metadata": {},
   "outputs": [],
   "source": []
  },
  {
   "cell_type": "code",
   "execution_count": null,
   "metadata": {},
   "outputs": [],
   "source": []
  }
 ],
 "metadata": {
  "kernelspec": {
   "display_name": "Python 3",
   "language": "python",
   "name": "python3"
  },
  "language_info": {
   "codemirror_mode": {
    "name": "ipython",
    "version": 3
   },
   "file_extension": ".py",
   "mimetype": "text/x-python",
   "name": "python",
   "nbconvert_exporter": "python",
   "pygments_lexer": "ipython3",
   "version": "3.6.4"
  }
 },
 "nbformat": 4,
 "nbformat_minor": 2
}
